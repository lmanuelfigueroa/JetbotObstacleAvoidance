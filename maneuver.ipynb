{
 "cells": [
  {
   "cell_type": "code",
   "execution_count": 1,
   "metadata": {},
   "outputs": [],
   "source": [
    "from jetbot import Robot\n",
    "import time\n",
    "\n",
    "\n",
    "class Maneuver:\n",
    "    \n",
    "    def __init__(self,robot):\n",
    "        self.robot = Robot()\n",
    "    def execute_maneuver(self):\n",
    "        self.robot.set_motors(.5, .5)\n",
    "        time.sleep(3)\n",
    "        self.robot.set_motors(.3,.6)\n",
    "        time.sleep(1.2)\n",
    "        self.robot.set_motors(.7,.3)\n",
    "        time.sleep(1)\n",
    "        self.robot.set_motors(.5,.5)\n",
    "        time.sleep(1.2)\n",
    "        self.robot.set_motors(.6,.3)\n",
    "        time.sleep(1)\n",
    "        self.robot.set_motors(.3,.6)\n",
    "        time.sleep(1.3)\n",
    "        self.robot.set_motors(.5,.5)\n",
    "        time.sleep(2)\n",
    "        self.robot.stop()\n",
    "\n"
   ]
  },
  {
   "cell_type": "code",
   "execution_count": 10,
   "metadata": {},
   "outputs": [],
   "source": [
    "robot = Robot()\n",
    "my = Maneuver(robot)\n",
    "my.execute_maneuver()\n"
   ]
  },
  {
   "cell_type": "code",
   "execution_count": null,
   "metadata": {},
   "outputs": [],
   "source": []
  }
 ],
 "metadata": {
  "kernelspec": {
   "display_name": "Python 3",
   "language": "python",
   "name": "python3"
  },
  "language_info": {
   "codemirror_mode": {
    "name": "ipython",
    "version": 3
   },
   "file_extension": ".py",
   "mimetype": "text/x-python",
   "name": "python",
   "nbconvert_exporter": "python",
   "pygments_lexer": "ipython3",
   "version": "3.6.8"
  }
 },
 "nbformat": 4,
 "nbformat_minor": 4
}
