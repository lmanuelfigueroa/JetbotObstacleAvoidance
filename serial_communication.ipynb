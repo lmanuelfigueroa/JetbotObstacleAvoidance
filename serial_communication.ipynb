{
 "cells": [
  {
   "cell_type": "code",
   "execution_count": null,
   "metadata": {},
   "outputs": [],
   "source": [
    "import serial\n",
    "from jetbot import Robot \n",
    "import time\n",
    "import math\n",
    "from maneuver import Maneuver\n",
    "#diameter in mm\n",
    "WHEEL_DIAMETER = 60 \n",
    "TICKS_PER_REV = 362 \n",
    "WHEEL_REV = math.pi * WHEEL_DIAMETER\n",
    "MM_TRAVEL_PER_TICK = WHEEL_REV / TICKS_PER_REV \n",
    "\n",
    "class Encoder:\n",
    "    \n",
    "    \n",
    "    def __init__(self,goal_distance,myrobot):\n",
    "        self.goal = goal_distance\n",
    "        self.robot = myrobot\n",
    "        #self.robot.set_motors(.487, .523)\n",
    "        self.robot.set_motors(.5,.5)\n",
    "        time.sleep(2)\n",
    "        self.get_data()\n",
    "        \n",
    "    def convertTicks_cm(self,ticks):\n",
    "        distance = (int(ticks)* MM_TRAVEL_PER_TICK) / 10\n",
    "        return \"{:.2f}\".format(distance)\n",
    "\n",
    "    def get_data(self):\n",
    "        \n",
    "        #open serial port\n",
    "        with serial.Serial('/dev/ttyACM0', 9600, timeout=10) as ser:  \n",
    "            while True:\n",
    "                encoder_values = ser.readline().decode(\"utf-8\")\n",
    "                try:\n",
    "                    encoder_values = ser.readline().decode(\"utf-8\")\n",
    "                    #read data from each wheel and convert to cm \n",
    "                    encoder_values = encoder_values.replace(\"\\r\\n\",\"\")\n",
    "           \n",
    "                    values = encoder_values.split(\":\")\n",
    "                    left_wheel = values[0]\n",
    "                    right_wheel = values[1]\n",
    "                    left_distance = float(self.convertTicks_cm(left_wheel))\n",
    "                    right_distance = float(self.convertTicks_cm(right_wheel))\n",
    "                    print(left_distance, \" and \",right_distance)\n",
    "            \n",
    "                    #compare to goal distance to see if robot travel the right distance\n",
    "                    if(left_distance >= self.goal or right_distance >= self.goal):\n",
    "                        print(\"Goal \")\n",
    "                        robot.stop()\n",
    "                        break\n",
    "            \n",
    "                except IndexError:\n",
    "                    print(\"Bad data\")\n",
    "        print(\"Executing Maneuver\")    \n",
    "        m = Maneuver(robot)\n",
    "        m.execute_maneuver()"
   ]
  },
  {
   "cell_type": "code",
   "execution_count": null,
   "metadata": {},
   "outputs": [],
   "source": [
    "goal_distance = float(input(\"Enter a goal distance in cm: \"))\n",
    "robot = Robot()\n",
    "encoder = Encoder(goal_distance,robot)\n"
   ]
  },
  {
   "cell_type": "code",
   "execution_count": null,
   "metadata": {},
   "outputs": [],
   "source": []
  },
  {
   "cell_type": "code",
   "execution_count": null,
   "metadata": {},
   "outputs": [],
   "source": []
  }
 ],
 "metadata": {
  "kernelspec": {
   "display_name": "Python 3",
   "language": "python",
   "name": "python3"
  },
  "language_info": {
   "codemirror_mode": {
    "name": "ipython",
    "version": 3
   },
   "file_extension": ".py",
   "mimetype": "text/x-python",
   "name": "python",
   "nbconvert_exporter": "python",
   "pygments_lexer": "ipython3",
   "version": "3.6.8"
  }
 },
 "nbformat": 4,
 "nbformat_minor": 4
}
